{
 "cells": [
  {
   "cell_type": "markdown",
   "metadata": {},
   "source": [
    "# Atmospheric composition distribution by CAMS and TROPOMI\n",
    "\n",
    "### Main goal:\n",
    "* Compare TROPOMI and CAMS datasets for NO<sub>2</sub>, CO, O<sub>3</sub> and SO<sub>2</sub> (Level 2)."
   ]
  },
  {
   "cell_type": "markdown",
   "metadata": {},
   "source": [
    "## Imports and supporting functions"
   ]
  },
  {
   "cell_type": "code",
   "execution_count": null,
   "metadata": {},
   "outputs": [],
   "source": [
    "import os \n",
    "from sentinelsat.sentinel import SentinelAPI, geojson_to_wkt\n",
    "import cdsapi\n",
    "import cfgrib\n",
    "import xarray as xr\n",
    "import pandas as pd\n",
    "import numpy as np\n",
    "from itertools import product\n",
    "import scipy.interpolate\n",
    "from copy import copy\n",
    "import matplotlib.pyplot as plt\n",
    "import matplotlib.colors as colors\n",
    "import cartopy.crs as ccrs\n",
    "from cartopy.mpl.gridliner import LONGITUDE_FORMATTER, LATITUDE_FORMATTER\n",
    "import cartopy.feature as cfeature\n",
    "import math\n",
    "import geojson\n",
    "from sklearn.linear_model import LinearRegression\n",
    "from scipy.spatial.distance import cdist\n",
    "import datetime as dt\n",
    "import geocoder\n",
    "import seaborn as sns\n",
    "from matplotlib.cbook import boxplot_stats  \n",
    "from matplotlib import animation\n",
    "from IPython.display import HTML, display"
   ]
  },
  {
   "cell_type": "code",
   "execution_count": null,
   "metadata": {},
   "outputs": [],
   "source": [
    "%run functions/functions_general.ipynb\n",
    "%run functions/functions_cams.ipynb\n",
    "%run functions/functions_tropomi.ipynb"
   ]
  },
  {
   "cell_type": "code",
   "execution_count": null,
   "metadata": {},
   "outputs": [],
   "source": [
    "# Hide pandas warning\n",
    "pd.options.mode.chained_assignment = None"
   ]
  },
  {
   "cell_type": "markdown",
   "metadata": {},
   "source": [
    "## 1. Define datasets"
   ]
  },
  {
   "cell_type": "code",
   "execution_count": null,
   "metadata": {},
   "outputs": [],
   "source": [
    "# Define component\n",
    "component_nom = 'NO2'\n",
    "\n",
    "# Define model\n",
    "model = 'cams'\n",
    "model_full_name = 'cams-global-atmospheric-composition-forecasts'\n",
    "\n",
    "# Define sensor\n",
    "sensor = 'tropomi'\n",
    "sensor_type = 'L2'\n",
    "apply_kernels = True\n",
    "\n",
    "# Define search period\n",
    "start_date = '2021-10-24'\n",
    "end_date = '2021-10-24'\n",
    "\n",
    "# Define extent\n",
    "lon_min = -5\n",
    "lon_max = 5\n",
    "lat_min = 38\n",
    "lat_max = 42\n",
    "\n",
    "# Create bbox\n",
    "bbox = ((lon_min, lat_min), (lon_max, lat_max))"
   ]
  },
  {
   "cell_type": "code",
   "execution_count": null,
   "metadata": {},
   "outputs": [],
   "source": [
    "# Check if comparison is possible\n",
    "comparison_check(sensor, model, component_nom, model_full_name, sensor_type)\n",
    "\n",
    "# Get component full name and molecular weight\n",
    "component, component_mol_weight, product_type, sensor_column = components_table(sensor, component_nom, sensor_type)\n",
    "\n",
    "# Folders generation\n",
    "generate_folders(model, sensor, component_nom, sensor_type)\n",
    "\n",
    "# Generate array with search dates\n",
    "dates = search_period(start_date, end_date, sensor, sensor_type)"
   ]
  },
  {
   "cell_type": "markdown",
   "metadata": {},
   "source": [
    "## 2. Model data"
   ]
  },
  {
   "cell_type": "markdown",
   "metadata": {},
   "source": [
    "### Download and read data as xarray"
   ]
  },
  {
   "cell_type": "code",
   "execution_count": null,
   "metadata": {},
   "outputs": [],
   "source": [
    "model_product_name, model_type = CAMS_download(dates, start_date, end_date, component, \n",
    "                                               component_nom, model_full_name, model_level = 'Multiple')"
   ]
  },
  {
   "cell_type": "code",
   "execution_count": null,
   "metadata": {},
   "outputs": [],
   "source": [
    "model_ds, _ = CAMS_read(model_product_name, component, component_nom, dates)\n",
    "model_ds"
   ]
  },
  {
   "cell_type": "markdown",
   "metadata": {},
   "source": [
    "### Collect 137 levels model data"
   ]
  },
  {
   "cell_type": "code",
   "execution_count": null,
   "metadata": {},
   "outputs": [],
   "source": [
    "model_levels_df = CAMS_137_levels()\n",
    "model_levels_df"
   ]
  },
  {
   "cell_type": "markdown",
   "metadata": {},
   "source": [
    "### Convert CAMS data units (kg/kg to molecules/cm<sup>2</sup>)"
   ]
  },
  {
   "cell_type": "code",
   "execution_count": null,
   "metadata": {},
   "outputs": [],
   "source": [
    "model_ds, units = model_convert_units(model, model_ds, sensor, \n",
    "                                      component_mol_weight, component, model_levels_df,\n",
    "                                      start_date, end_date, component_nom, apply_kernels)"
   ]
  },
  {
   "cell_type": "markdown",
   "metadata": {},
   "source": [
    "### Download read and subset original total columns data"
   ]
  },
  {
   "cell_type": "code",
   "execution_count": null,
   "metadata": {},
   "outputs": [],
   "source": [
    "model_product_name, model_type = CAMS_download(dates, start_date, end_date, component, component_nom, \n",
    "                                               model_full_name, model_level = 'Single')\n",
    "model_total_ds, _ = CAMS_read(model_product_name, component, component_nom, dates)\n",
    "model_total_ds = subset(model_total_ds, bbox)\n",
    "model_total_ds"
   ]
  },
  {
   "cell_type": "markdown",
   "metadata": {},
   "source": [
    "### Convert CAMS total columns data units (kg/m2 to molecules/cm<sup>2</sup>)"
   ]
  },
  {
   "cell_type": "code",
   "execution_count": null,
   "metadata": {},
   "outputs": [],
   "source": [
    "model_total_ds, _ = model_convert_units(model, model_total_ds, sensor,\n",
    "                                        component_mol_weight, component, model_levels_df,\n",
    "                                        start_date, end_date, component_nom, apply_kernels)"
   ]
  },
  {
   "cell_type": "markdown",
   "metadata": {},
   "source": [
    "## 3. Sensor data"
   ]
  },
  {
   "cell_type": "markdown",
   "metadata": {},
   "source": [
    "### Download and read data as xarray"
   ]
  },
  {
   "cell_type": "code",
   "execution_count": null,
   "metadata": {},
   "outputs": [],
   "source": [
    "# This won't work if the search period is older than one month\n",
    "dates = sensor_download(sensor, sensor_type, component_nom, dates, bbox, product_type)"
   ]
  },
  {
   "cell_type": "code",
   "execution_count": null,
   "metadata": {},
   "outputs": [],
   "source": [
    "sensor_ds, support_input_ds, support_details_ds = sensor_read(sensor, sensor_type, sensor_column, \n",
    "                                                              component_nom, dates)\n",
    "sensor_ds"
   ]
  },
  {
   "cell_type": "markdown",
   "metadata": {},
   "source": [
    "### Convert TROPOMI data units (From mol/m<sup>2</sup> to molecules/cm<sup>2</sup>)"
   ]
  },
  {
   "cell_type": "code",
   "execution_count": null,
   "metadata": {},
   "outputs": [],
   "source": [
    "sensor_ds = sensor_convert_units(sensor_ds, sensor, component)\n",
    "sensor_ds"
   ]
  },
  {
   "cell_type": "markdown",
   "metadata": {},
   "source": [
    "## 4. Match data (and apply averaging kernels)"
   ]
  },
  {
   "cell_type": "code",
   "execution_count": null,
   "metadata": {},
   "outputs": [],
   "source": [
    "match_table = generate_match_table(sensor_ds, model_ds, bbox,  \n",
    "                                   sensor, component_nom, apply_kernels)\n",
    "match_table"
   ]
  },
  {
   "cell_type": "markdown",
   "metadata": {},
   "source": [
    "## 5. Merge data and calculate difference"
   ]
  },
  {
   "cell_type": "code",
   "execution_count": null,
   "metadata": {},
   "outputs": [],
   "source": [
    "merge_table = generate_merge_table(match_table, sensor_ds, model_ds, sensor, apply_kernels)\n",
    "merge_table"
   ]
  },
  {
   "cell_type": "code",
   "execution_count": null,
   "metadata": {},
   "outputs": [],
   "source": [
    "descr_statistics_table = merge_table.describe()\n",
    "descr_statistics_table"
   ]
  },
  {
   "cell_type": "markdown",
   "metadata": {},
   "source": [
    "## 6. Show comparison plots"
   ]
  },
  {
   "cell_type": "markdown",
   "metadata": {},
   "source": [
    "### Select plot dates"
   ]
  },
  {
   "cell_type": "code",
   "execution_count": null,
   "metadata": {},
   "outputs": [],
   "source": [
    "plot_dates = plot_period(sensor_ds, sensor)"
   ]
  },
  {
   "cell_type": "markdown",
   "metadata": {},
   "source": [
    "### Select plot extent"
   ]
  },
  {
   "cell_type": "code",
   "execution_count": null,
   "metadata": {},
   "outputs": [],
   "source": [
    "plot_bbox = plot_extent(bbox)"
   ]
  },
  {
   "cell_type": "markdown",
   "metadata": {},
   "source": [
    "### Compare CAMS and TROPOMI total columns"
   ]
  },
  {
   "cell_type": "code",
   "execution_count": null,
   "metadata": {},
   "outputs": [],
   "source": [
    "# Choose distribution (aggregated, individual or animated)\n",
    "distribution_type = 'individual'\n",
    "\n",
    "# Choose range (original, equal or manual)\n",
    "range_type = 'equal'\n",
    "vmin_manual = None\n",
    "vmax_manual = None\n",
    "\n",
    "# Define projection and colors\n",
    "projection = ccrs.PlateCarree()\n",
    "color_scale = 'coolwarm' \n",
    "units = 'molecules/cm2'\n",
    "visualize_model_vs_sensor(model, sensor, component_nom, units, merge_table, plot_dates, plot_bbox, 20, 0.80, \n",
    "                          model_type, sensor_type, range_type, distribution_type, projection,\n",
    "                          color_scale, vmin_manual, vmax_manual)"
   ]
  },
  {
   "cell_type": "markdown",
   "metadata": {},
   "source": [
    "### Compare CAMS original and averaged total columns"
   ]
  },
  {
   "cell_type": "code",
   "execution_count": null,
   "metadata": {},
   "outputs": [],
   "source": [
    "# Choose range (original, equal or manual)\n",
    "range_type = 'equal' # original or equal\n",
    "vmin_manual = None\n",
    "vmax_manual = None\n",
    "\n",
    "# Define projection and colors\n",
    "projection = ccrs.PlateCarree()\n",
    "color_scale = 'coolwarm' \n",
    "\n",
    "visualize_model_original_vs_calculated(model, component_nom,units, merge_table, model_total_ds, plot_dates, \n",
    "                                       plot_bbox, 20, 1, model_type, range_type, projection, color_scale,\n",
    "                                       vmin_manual, vmax_manual)"
   ]
  },
  {
   "cell_type": "markdown",
   "metadata": {},
   "source": [
    "## 7. Retrieve nearest values to specific latitude and longitude"
   ]
  },
  {
   "cell_type": "code",
   "execution_count": null,
   "metadata": {},
   "outputs": [],
   "source": [
    "coords_search_list = (50, 60,\n",
    "                      4, 10,\n",
    "                      20, 30)\n",
    "retrieval_table_all =  retrieve_coords(merge_table.dropna(), coords_search_list, component_nom, \n",
    "                                       sensor, model, plot_dates, units)\n",
    "retrieval_table_all"
   ]
  },
  {
   "cell_type": "markdown",
   "metadata": {},
   "source": [
    "## 8. Scatter plots by bbox"
   ]
  },
  {
   "cell_type": "code",
   "execution_count": null,
   "metadata": {},
   "outputs": [],
   "source": [
    "show_seasons = False\n",
    "extent_definition = 'bbox' # bbox or country\n",
    "scatter_plot_type = 'individual' # aggregated or individual\n",
    "\n",
    "lim_min = None\n",
    "lim_max = None\n",
    "\n",
    "summary = scatter_plot(merge_table.dropna(), component_nom, units, sensor, plot_dates, 1.05, \n",
    "                       extent_definition, show_seasons, scatter_plot_type, lim_min, lim_max, plot_bbox)"
   ]
  },
  {
   "cell_type": "code",
   "execution_count": null,
   "metadata": {},
   "outputs": [],
   "source": [
    "summary"
   ]
  },
  {
   "cell_type": "markdown",
   "metadata": {},
   "source": [
    "## 9. Scatter plots by season"
   ]
  },
  {
   "cell_type": "code",
   "execution_count": null,
   "metadata": {},
   "outputs": [],
   "source": [
    "show_seasons = True\n",
    "extent_definition = 'bbox' # bbox or country\n",
    "scatter_plot_type = 'individual' # aggregated or individual\n",
    "\n",
    "lim_min = None\n",
    "lim_max = None\n",
    "\n",
    "summary = scatter_plot(merge_table.dropna(), component_nom, units, sensor, plot_dates, 1.05, \n",
    "                       extent_definition, show_seasons, scatter_plot_type, lim_min, lim_max, plot_bbox)"
   ]
  },
  {
   "cell_type": "code",
   "execution_count": null,
   "metadata": {},
   "outputs": [],
   "source": [
    "summary"
   ]
  },
  {
   "cell_type": "markdown",
   "metadata": {},
   "source": [
    "## 10. Scatter plots by country (Google API required!)"
   ]
  },
  {
   "cell_type": "code",
   "execution_count": null,
   "metadata": {},
   "outputs": [],
   "source": [
    "\"\"\"\n",
    "show_seasons = False\n",
    "extent_definition = 'country' # bbox or country\n",
    "scatter_plot_type = 'aggregated' # aggregated or individual\n",
    "plot_countries = ['Czech Republic', 'Poland', 'Germany']\n",
    "\n",
    "lim_min = None\n",
    "lim_max = None\n",
    "\n",
    "scatter_plot(merge_table.dropna(), component_nom, units, sensor, plot_dates, 1.05, \n",
    "             extent_definition, show_seasons, scatter_plot_type, lim_min, lim_max, plot_countries)\n",
    "\"\"\""
   ]
  },
  {
   "cell_type": "code",
   "execution_count": null,
   "metadata": {},
   "outputs": [],
   "source": [
    "#summary"
   ]
  }
 ],
 "metadata": {
  "interpreter": {
   "hash": "fc2967d46b8688a8c6de8a18a3daae8ebe0b7dc5d18d27687b3fe01b2a6426f9"
  },
  "kernelspec": {
   "display_name": "Python 3.8.10 64-bit ('env-new': venv)",
   "name": "python3"
  },
  "language_info": {
   "codemirror_mode": {
    "name": "ipython",
    "version": 3
   },
   "file_extension": ".py",
   "mimetype": "text/x-python",
   "name": "python",
   "nbconvert_exporter": "python",
   "pygments_lexer": "ipython3",
   "version": "3.8.10"
  },
  "orig_nbformat": 4
 },
 "nbformat": 4,
 "nbformat_minor": 2
}
