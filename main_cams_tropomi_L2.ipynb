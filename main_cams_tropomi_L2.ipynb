{
 "cells": [
  {
   "cell_type": "markdown",
   "source": [
    "# Atmospheric composition distribution by CAMS and TROPOMI\n",
    "\n",
    "### Main goal:\n",
    "* Compare TROPOMI and CAMS datasets for NO<sub>2</sub>, CO, O<sub>3</sub> and SO<sub>2</sub> (Level 2)."
   ],
   "metadata": {}
  },
  {
   "cell_type": "markdown",
   "source": [
    "## Imports and supporting functions"
   ],
   "metadata": {}
  },
  {
   "cell_type": "code",
   "execution_count": null,
   "source": [
    "import os \n",
    "from sentinelsat.sentinel import SentinelAPI, geojson_to_wkt\n",
    "import cdsapi\n",
    "import cfgrib\n",
    "import xarray as xr\n",
    "import pandas as pd\n",
    "import numpy as np\n",
    "from itertools import product\n",
    "import scipy.interpolate\n",
    "from copy import copy\n",
    "import matplotlib.pyplot as plt\n",
    "import matplotlib.colors as colors\n",
    "import cartopy.crs as ccrs\n",
    "from cartopy.mpl.gridliner import LONGITUDE_FORMATTER, LATITUDE_FORMATTER\n",
    "import cartopy.feature as cfeature\n",
    "import math\n",
    "import geojson\n",
    "from sklearn.linear_model import LinearRegression\n",
    "from scipy.spatial.distance import cdist\n",
    "import datetime as dt\n",
    "import geocoder\n",
    "import seaborn as sns\n",
    "from matplotlib.cbook import boxplot_stats  "
   ],
   "outputs": [],
   "metadata": {}
  },
  {
   "cell_type": "code",
   "execution_count": null,
   "source": [
    "%run functions/functions_general.ipynb\n",
    "%run functions/functions_cams.ipynb\n",
    "%run functions/functions_tropomi.ipynb"
   ],
   "outputs": [],
   "metadata": {}
  },
  {
   "cell_type": "code",
   "execution_count": null,
   "source": [
    "# Hide pandas warning\n",
    "pd.options.mode.chained_assignment = None"
   ],
   "outputs": [],
   "metadata": {}
  },
  {
   "cell_type": "markdown",
   "source": [
    "## 1. Define datasets"
   ],
   "metadata": {}
  },
  {
   "cell_type": "code",
   "execution_count": null,
   "source": [
    "# Define component\n",
    "component_nom = 'O3'\n",
    "\n",
    "# Define sensor\n",
    "sensor = 'tropomi'\n",
    "sensor_type = 'L2'\n",
    "\n",
    "# Define model\n",
    "model = 'cams'\n",
    "model_full_name = 'cams-global-atmospheric-composition-forecasts'\n",
    "\n",
    "# Check if comparison is possible\n",
    "comparison_check(sensor, model, component_nom, model_full_name, sensor_type)\n",
    "\n",
    "# Get component full name and molecular weight\n",
    "component, component_mol_weight, product_type, sensor_column = components_table(sensor, component_nom)\n",
    "\n",
    "# Folders generation\n",
    "generate_folders(model, sensor, component_nom)"
   ],
   "outputs": [],
   "metadata": {}
  },
  {
   "cell_type": "code",
   "execution_count": null,
   "source": [
    "# Define extent\n",
    "lon_min = 12\n",
    "lon_max = 18.9\n",
    "lat_min = 48.5\n",
    "lat_max = 51.1\n",
    "\n",
    "# Create bbox\n",
    "bbox = ((lon_min, lat_min), (lon_max, lat_max))\n",
    "\n",
    "# Define search period\n",
    "start_date = '2021-08-21'\n",
    "end_date = '2021-08-22'\n",
    "dates = search_period(start_date, end_date, sensor, sensor_type)"
   ],
   "outputs": [],
   "metadata": {}
  },
  {
   "cell_type": "markdown",
   "source": [
    "## 2. Model data"
   ],
   "metadata": {}
  },
  {
   "cell_type": "markdown",
   "source": [
    "### Download and read data as xarray"
   ],
   "metadata": {}
  },
  {
   "cell_type": "code",
   "execution_count": null,
   "source": [
    "model_product_name, model_type = CAMS_download(dates, start_date, end_date, component, \n",
    "                                               component_nom, model_full_name, model_level = 'Multiple')"
   ],
   "outputs": [],
   "metadata": {}
  },
  {
   "cell_type": "code",
   "execution_count": null,
   "source": [
    "model_ds, _ = CAMS_read(model_product_name, component, component_nom, dates)\n",
    "model_ds"
   ],
   "outputs": [],
   "metadata": {}
  },
  {
   "cell_type": "markdown",
   "source": [
    "### Collect 137 levels model data"
   ],
   "metadata": {}
  },
  {
   "cell_type": "code",
   "execution_count": null,
   "source": [
    "model_levels_df = CAMS_137_levels()\n",
    "model_levels_df"
   ],
   "outputs": [],
   "metadata": {}
  },
  {
   "cell_type": "markdown",
   "source": [
    "### Convert CAMS data units (kg/kg to molecules/cm<sup>2</sup>)"
   ],
   "metadata": {}
  },
  {
   "cell_type": "code",
   "execution_count": null,
   "source": [
    "model_ds, units = model_convert_units(model_ds, model, component_mol_weight, component, conversion_method = 'Simple')"
   ],
   "outputs": [],
   "metadata": {}
  },
  {
   "cell_type": "markdown",
   "source": [
    "### Download read and subset original total columns data"
   ],
   "metadata": {}
  },
  {
   "cell_type": "code",
   "execution_count": null,
   "source": [
    "model_product_name, model_type = CAMS_download(dates, start_date, end_date, component, component_nom, \n",
    "                                               model_full_name, model_level = 'Single')\n",
    "model_total_ds, _ = CAMS_read(model_product_name, component, component_nom, dates)\n",
    "model_total_ds = subset(model_total_ds, bbox)\n",
    "model_total_ds"
   ],
   "outputs": [],
   "metadata": {}
  },
  {
   "cell_type": "markdown",
   "source": [
    "### Convert CAMS total columns data units (kg/m2 to molecules/cm<sup>2</sup>)"
   ],
   "metadata": {}
  },
  {
   "cell_type": "code",
   "execution_count": null,
   "source": [
    "model_total_ds, _ = model_convert_units(model_total_ds, model, component_mol_weight, component, conversion_method = 'Simple')"
   ],
   "outputs": [],
   "metadata": {}
  },
  {
   "cell_type": "markdown",
   "source": [
    "## 3. Sensor data"
   ],
   "metadata": {}
  },
  {
   "cell_type": "markdown",
   "source": [
    "### Download and read data as xarray"
   ],
   "metadata": {}
  },
  {
   "cell_type": "code",
   "execution_count": null,
   "source": [
    "sensor_product_names = sensor_download(sensor, sensor_type, component_nom, bbox, dates, product_type)"
   ],
   "outputs": [],
   "metadata": {}
  },
  {
   "cell_type": "code",
   "execution_count": null,
   "source": [
    "sensor_ds, support_input_ds, support_details_ds = sensor_read(sensor, sensor_type, component_nom, sensor_product_names)\n",
    "sensor_ds"
   ],
   "outputs": [],
   "metadata": {}
  },
  {
   "cell_type": "markdown",
   "source": [
    "### Convert TROPOMI data units (From mol/m<sup>2</sup> to molecules/cm<sup>2</sup>)"
   ],
   "metadata": {}
  },
  {
   "cell_type": "code",
   "execution_count": null,
   "source": [
    "sensor_ds = sensor_convert_units(sensor_ds, sensor_column, sensor, component)\n",
    "sensor_ds"
   ],
   "outputs": [],
   "metadata": {}
  },
  {
   "cell_type": "markdown",
   "source": [
    "## 4. Match data (and apply averaging kernels)"
   ],
   "metadata": {}
  },
  {
   "cell_type": "code",
   "execution_count": null,
   "source": [
    "kernels_method = None # None, Interpolation or Nearest neighbours\n",
    "match_table = generate_match_table(sensor_ds, model_ds, bbox, kernels_method, \n",
    "                                   sensor, component_nom, sensor_column, model_levels_df)\n",
    "match_table"
   ],
   "outputs": [],
   "metadata": {}
  },
  {
   "cell_type": "markdown",
   "source": [
    "## 5. Merge data and calculate difference"
   ],
   "metadata": {}
  },
  {
   "cell_type": "code",
   "execution_count": null,
   "source": [
    "merge_table = generate_merge_table(match_table, sensor_ds, model_ds, kernels_method, sensor_column, sensor)\n",
    "merge_table"
   ],
   "outputs": [],
   "metadata": {}
  },
  {
   "cell_type": "code",
   "execution_count": null,
   "source": [
    "descr_statistics_table = merge_table.describe()\n",
    "descr_statistics_table"
   ],
   "outputs": [],
   "metadata": {}
  },
  {
   "cell_type": "markdown",
   "source": [
    "## 6. Filtering"
   ],
   "metadata": {}
  },
  {
   "cell_type": "code",
   "execution_count": null,
   "source": [
    "#filter_negative = True\n",
    "#merge_table = filter_merge_table(merge_table, sensor_column, component_nom, units, filter_negative)"
   ],
   "outputs": [],
   "metadata": {}
  },
  {
   "cell_type": "markdown",
   "source": [
    "## 7. Show comparison plots"
   ],
   "metadata": {}
  },
  {
   "cell_type": "markdown",
   "source": [
    "### Select plot dates"
   ],
   "metadata": {}
  },
  {
   "cell_type": "code",
   "execution_count": null,
   "source": [
    "plot_dates = plot_period(sensor_ds, sensor)"
   ],
   "outputs": [],
   "metadata": {}
  },
  {
   "cell_type": "markdown",
   "source": [
    "### Select plot extent"
   ],
   "metadata": {}
  },
  {
   "cell_type": "code",
   "execution_count": null,
   "source": [
    "plot_bbox = plot_extent(bbox)"
   ],
   "outputs": [],
   "metadata": {}
  },
  {
   "cell_type": "markdown",
   "source": [
    "### Compare CAMS and TROPOMI total columns"
   ],
   "metadata": {}
  },
  {
   "cell_type": "code",
   "execution_count": null,
   "source": [
    "range_type = 'equal' # original or equal\n",
    "distribution_type = 'individual' # aggregated or individual\n",
    "\n",
    "projection = ccrs.PlateCarree()\n",
    "color_scale = 'coolwarm'\n",
    "\n",
    "visualize_model_vs_sensor(model, sensor, component_nom, units, merge_table, plot_dates, plot_bbox, 20, 0.80, \n",
    "                          model_type, sensor_type, range_type, sensor_column, distribution_type, projection,\n",
    "                          color_scale)"
   ],
   "outputs": [],
   "metadata": {}
  },
  {
   "cell_type": "markdown",
   "source": [
    "### Compare CAMS original and averaged total columns"
   ],
   "metadata": {}
  },
  {
   "cell_type": "code",
   "execution_count": null,
   "source": [
    "range_type = 'equal' # original or equal\n",
    "\n",
    "projection = ccrs.PlateCarree()\n",
    "color_scale = 'coolwarm' \n",
    "\n",
    "visualize_model_original_vs_calculated(model, component_nom,units, merge_table, model_total_ds, plot_dates, \n",
    "                                       plot_bbox, 20, 1, model_type, range_type, projection, color_scale)"
   ],
   "outputs": [],
   "metadata": {}
  },
  {
   "cell_type": "markdown",
   "source": [
    "## 8. Retrieve nearest values to specific latitude and longitude"
   ],
   "metadata": {}
  },
  {
   "cell_type": "code",
   "execution_count": null,
   "source": [
    "coords_search_list = (50, 60,\n",
    "                      4, 10,\n",
    "                      20, 30)\n",
    "coords_search = pairwise(coords_search_list)\n",
    "retrieval_table_all =  retrieve_coords(merge_table.dropna(), coords_search, component_nom, \n",
    "                                       sensor_column, sensor, model, plot_dates, units)\n",
    "retrieval_table_all"
   ],
   "outputs": [],
   "metadata": {}
  },
  {
   "cell_type": "markdown",
   "source": [
    "## 9. Scatter plots by bbox"
   ],
   "metadata": {}
  },
  {
   "cell_type": "code",
   "execution_count": null,
   "source": [
    "show_seasons = False\n",
    "extent_definition = 'bbox' # bbox or country\n",
    "scatter_plot_type = 'aggregated' # aggregated or individual\n",
    "summary = scatter_plot(merge_table.dropna(), component_nom, units, sensor_column, sensor, \n",
    "                       plot_dates, 1.05, extent_definition, show_seasons, scatter_plot_type, plot_bbox)"
   ],
   "outputs": [],
   "metadata": {}
  },
  {
   "cell_type": "code",
   "execution_count": null,
   "source": [
    "summary"
   ],
   "outputs": [],
   "metadata": {}
  },
  {
   "cell_type": "markdown",
   "source": [
    "## 10. Scatter plots by season"
   ],
   "metadata": {}
  },
  {
   "cell_type": "code",
   "execution_count": null,
   "source": [
    "show_seasons = True\n",
    "extent_definition = 'bbox' # bbox or country\n",
    "scatter_plot_type = 'individual' # aggregated or individual\n",
    "summary = scatter_plot(merge_table.dropna(), component_nom, units, sensor_column, sensor, \n",
    "                       plot_dates, 1.05, extent_definition, show_seasons, scatter_plot_type, plot_bbox)"
   ],
   "outputs": [],
   "metadata": {}
  },
  {
   "cell_type": "code",
   "execution_count": null,
   "source": [
    "summary"
   ],
   "outputs": [],
   "metadata": {}
  },
  {
   "cell_type": "markdown",
   "source": [
    "## 11. Scatter plots by country (Google API required!)"
   ],
   "metadata": {}
  },
  {
   "cell_type": "code",
   "execution_count": null,
   "source": [
    "\"\"\"\n",
    "show_seasons = False\n",
    "extent_definition = 'country' # bbox or country\n",
    "scatter_plot_type = 'aggregated' # aggregated or individual\n",
    "plot_countries = ['Czech Republic', 'Poland', 'Germany']\n",
    "scatter_plot(merge_table.dropna(), component_nom, units, sensor_column, sensor, \n",
    "             plot_dates, 1.05, extent_definition, show_seasons, scatter_plot_type, plot_countries)\n",
    "\"\"\""
   ],
   "outputs": [],
   "metadata": {}
  },
  {
   "cell_type": "code",
   "execution_count": null,
   "source": [
    "#summary"
   ],
   "outputs": [],
   "metadata": {}
  }
 ],
 "metadata": {
  "interpreter": {
   "hash": "84d6139589c0d952b978fb9437b8e11e4e03996aa73ed56a307e4c0ad5e273d4"
  },
  "kernelspec": {
   "name": "python3",
   "display_name": "Python 3.8.10 64-bit ('env-new': venv)"
  },
  "language_info": {
   "codemirror_mode": {
    "name": "ipython",
    "version": 3
   },
   "file_extension": ".py",
   "mimetype": "text/x-python",
   "name": "python",
   "nbconvert_exporter": "python",
   "pygments_lexer": "ipython3",
   "version": "3.8.10"
  },
  "orig_nbformat": 4
 },
 "nbformat": 4,
 "nbformat_minor": 2
}