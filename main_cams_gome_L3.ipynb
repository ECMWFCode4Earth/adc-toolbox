{
 "cells": [
  {
   "cell_type": "markdown",
   "metadata": {},
   "source": [
    "# Atmospheric composition distribution by CAMS and GOME-2\n",
    "\n",
    "### Main goal:\n",
    "* Compare GOME-2 and CAMS datasets for NO<sub>2</sub> (Level 3)."
   ]
  },
  {
   "cell_type": "markdown",
   "metadata": {},
   "source": [
    "## Imports and supporting functions"
   ]
  },
  {
   "cell_type": "code",
   "execution_count": null,
   "metadata": {},
   "outputs": [],
   "source": [
    "# Related to the system\n",
    "import os \n",
    "\n",
    "# Related to the data retrieval\n",
    "from sentinelsat.sentinel import SentinelAPI, geojson_to_wkt\n",
    "import cdsapi\n",
    "import cfgrib\n",
    "import geojson\n",
    "import urllib3\n",
    "import wget # Important for GOME-2\n",
    "import subprocess # Important for GOME-2\n",
    "import bs4 # Important for GOME-2 L2\n",
    "import h5py # Important for GOME-2 L2\n",
    "\n",
    "# Related to the data analysis\n",
    "import math\n",
    "import xarray as xr\n",
    "import pandas as pd\n",
    "import numpy as np\n",
    "import datetime as dt\n",
    "from itertools import product\n",
    "import scipy.interpolate\n",
    "from sklearn.linear_model import LinearRegression\n",
    "from scipy.spatial.distance import cdist\n",
    "\n",
    "# Related to the results\n",
    "from copy import copy\n",
    "import matplotlib\n",
    "import matplotlib.pyplot as plt\n",
    "import matplotlib.colors as colors\n",
    "import cartopy.crs as ccrs\n",
    "from cartopy.mpl.gridliner import LONGITUDE_FORMATTER, LATITUDE_FORMATTER\n",
    "import cartopy.feature as cfeature\n",
    "import geocoder\n",
    "import seaborn as sns\n",
    "from matplotlib import animation\n",
    "from IPython.display import HTML, display"
   ]
  },
  {
   "cell_type": "code",
   "execution_count": null,
   "metadata": {},
   "outputs": [],
   "source": [
    "%run functions/functions_general.ipynb\n",
    "%run functions/functions_cams.ipynb\n",
    "%run functions/functions_gome.ipynb"
   ]
  },
  {
   "cell_type": "code",
   "execution_count": null,
   "metadata": {},
   "outputs": [],
   "source": [
    "# Hide pandas warning\n",
    "pd.options.mode.chained_assignment = None\n",
    "\n",
    "# Hide API request warning\n",
    "urllib3.disable_warnings(urllib3.exceptions.InsecureRequestWarning)\n",
    "\n",
    "# Increase animation limit\n",
    "matplotlib.rcParams['animation.embed_limit'] = 25000000"
   ]
  },
  {
   "cell_type": "markdown",
   "metadata": {},
   "source": [
    "## 1. Define datasets"
   ]
  },
  {
   "cell_type": "code",
   "execution_count": null,
   "metadata": {},
   "outputs": [],
   "source": [
    "# Define component\n",
    "component_nom = 'NO2'\n",
    "\n",
    "# Define model\n",
    "model = 'cams'\n",
    "model_full_name = 'cams-global-reanalysis-eac4-monthly'\n",
    "\n",
    "# Define sensor\n",
    "sensor = 'gome'\n",
    "sensor_type = 'L3'\n",
    "satellites = ['A', 'B', 'C']\n",
    "apply_kernels = False\n",
    "\n",
    "# Define search period\n",
    "start_date = '2018-01-01'\n",
    "end_date = '2018-12-31'\n",
    "\n",
    "# Define extent\n",
    "lon_min = -25\n",
    "lon_max = 45\n",
    "lat_min = 30\n",
    "lat_max = 70\n",
    "\n",
    "# Define resolution (Minimum: 0.25x.0.25)\n",
    "lat_res = 1\n",
    "lon_res = 1\n",
    "\n",
    "# Create bbox\n",
    "bbox = ((lon_min, lat_min), (lon_max, lat_max))"
   ]
  },
  {
   "cell_type": "code",
   "execution_count": null,
   "metadata": {},
   "outputs": [],
   "source": [
    "# Check if comparison is possible\n",
    "comparison_check(sensor, model, component_nom, model_full_name, sensor_type)\n",
    "\n",
    "# Get component full name and molecular weight\n",
    "component, component_mol_weight, product_type, sensor_column = components_table(sensor, component_nom, sensor_type)\n",
    "\n",
    "# Folders generation\n",
    "generate_folders(model, sensor, component_nom, sensor_type)"
   ]
  },
  {
   "cell_type": "code",
   "execution_count": null,
   "metadata": {},
   "outputs": [],
   "source": [
    "# Generate array with search dates\n",
    "dates = search_period(start_date, end_date, sensor, sensor_type)\n",
    "\n",
    "# Create bbox\n",
    "bbox = search_bbox(lon_min, lat_min, lon_max, lat_max)"
   ]
  },
  {
   "cell_type": "markdown",
   "metadata": {},
   "source": [
    "## 2. Model data"
   ]
  },
  {
   "cell_type": "markdown",
   "metadata": {},
   "source": [
    "### Download and read data as xarray"
   ]
  },
  {
   "cell_type": "code",
   "execution_count": null,
   "metadata": {},
   "outputs": [],
   "source": [
    "model_product_name, model_type = CAMS_download(dates, start_date, end_date, component, component_nom, \n",
    "                                               model_full_name, model_level = 'Single')"
   ]
  },
  {
   "cell_type": "code",
   "execution_count": null,
   "metadata": {},
   "outputs": [],
   "source": [
    "model_ds, dates = CAMS_read(model_product_name, component, component_nom, dates)\n",
    "model_ds"
   ]
  },
  {
   "cell_type": "markdown",
   "metadata": {},
   "source": [
    "### Collect 137 levels model data"
   ]
  },
  {
   "cell_type": "code",
   "execution_count": null,
   "metadata": {},
   "outputs": [],
   "source": [
    "model_levels_df = CAMS_137_levels()\n",
    "model_levels_df"
   ]
  },
  {
   "cell_type": "markdown",
   "metadata": {},
   "source": [
    "### Convert CAMS data units (kg/m2 to molecules/cm<sup>2</sup>)"
   ]
  },
  {
   "cell_type": "code",
   "execution_count": null,
   "metadata": {},
   "outputs": [],
   "source": [
    "model_ds, units = model_convert_units(model, model_ds, sensor, \n",
    "                                      component_mol_weight, component, model_levels_df,\n",
    "                                      start_date, end_date, component_nom, apply_kernels)"
   ]
  },
  {
   "cell_type": "markdown",
   "metadata": {},
   "source": [
    "## 3. Sensor data"
   ]
  },
  {
   "cell_type": "markdown",
   "metadata": {},
   "source": [
    "### Download and read data as xarray"
   ]
  },
  {
   "cell_type": "code",
   "execution_count": null,
   "metadata": {},
   "outputs": [],
   "source": [
    "dates = sensor_download(sensor, sensor_type, component_nom, dates, satellites)"
   ]
  },
  {
   "cell_type": "code",
   "execution_count": null,
   "metadata": {},
   "outputs": [],
   "source": [
    "sensor_ds, _, _ = sensor_read(sensor, sensor_type, sensor_column, component_nom, \n",
    "                              dates, satellites, lat_res, lon_res)\n",
    "sensor_ds"
   ]
  },
  {
   "cell_type": "markdown",
   "metadata": {},
   "source": [
    "## 4. Match data"
   ]
  },
  {
   "cell_type": "code",
   "execution_count": null,
   "metadata": {},
   "outputs": [],
   "source": [
    "match_table = generate_match_table(sensor_ds, model_ds, bbox, sensor, component_nom, apply_kernels)\n",
    "match_table"
   ]
  },
  {
   "cell_type": "markdown",
   "metadata": {},
   "source": [
    "## 5. Merge data and calculate difference"
   ]
  },
  {
   "cell_type": "code",
   "execution_count": null,
   "metadata": {},
   "outputs": [],
   "source": [
    "merge_table = generate_merge_table(match_table, sensor_ds, model_ds, sensor, apply_kernels)\n",
    "merge_table"
   ]
  },
  {
   "cell_type": "code",
   "execution_count": null,
   "metadata": {},
   "outputs": [],
   "source": [
    "descr_statistics_table = merge_table.describe()\n",
    "descr_statistics_table"
   ]
  },
  {
   "cell_type": "markdown",
   "metadata": {},
   "source": [
    "## 6. Show comparison plots"
   ]
  },
  {
   "cell_type": "markdown",
   "metadata": {},
   "source": [
    "### Select plot dates"
   ]
  },
  {
   "cell_type": "code",
   "execution_count": null,
   "metadata": {},
   "outputs": [],
   "source": [
    "plot_dates = plot_period(sensor_ds, sensor)"
   ]
  },
  {
   "cell_type": "markdown",
   "metadata": {},
   "source": [
    "### Select plot extent"
   ]
  },
  {
   "cell_type": "code",
   "execution_count": null,
   "metadata": {},
   "outputs": [],
   "source": [
    "plot_bbox = plot_extent(bbox)"
   ]
  },
  {
   "cell_type": "markdown",
   "metadata": {},
   "source": [
    "### Compare CAMS and GOME-2 total columns"
   ]
  },
  {
   "cell_type": "code",
   "execution_count": null,
   "metadata": {},
   "outputs": [],
   "source": [
    "# Choose distribution (aggregated, individual or animated)\n",
    "distribution_type = 'animated'\n",
    "\n",
    "# Choose range (original, equal or manual)\n",
    "range_type = 'manual'\n",
    "vmin_manual = 0\n",
    "vmax_manual = 2*10**16\n",
    "\n",
    "# Define projection and colors\n",
    "projection = ccrs.PlateCarree()\n",
    "color_scale = 'turbo'\n",
    "\n",
    "visualize_model_vs_sensor(model, sensor, component_nom, units, merge_table, plot_dates, plot_bbox, 20, 1.05, \n",
    "                          model_type, sensor_type, range_type, distribution_type, projection,\n",
    "                          color_scale, vmin_manual, vmax_manual)"
   ]
  },
  {
   "cell_type": "markdown",
   "metadata": {},
   "source": [
    "## 7. Retrieve nearest values to specific latitude and longitude"
   ]
  },
  {
   "cell_type": "code",
   "execution_count": null,
   "metadata": {},
   "outputs": [],
   "source": [
    "coords_search_list = (50, 60,\n",
    "                      4, 10,\n",
    "                      20, 30)\n",
    "retrieval_table_all =  retrieve_coords(merge_table.dropna(), coords_search_list, component_nom, \n",
    "                                       sensor, model, plot_dates, units)\n",
    "retrieval_table_all"
   ]
  },
  {
   "cell_type": "markdown",
   "metadata": {},
   "source": [
    "## 8. Scatter plots by bbox"
   ]
  },
  {
   "cell_type": "code",
   "execution_count": null,
   "metadata": {},
   "outputs": [],
   "source": [
    "show_seasons = False\n",
    "extent_definition = 'bbox' # bbox or country\n",
    "scatter_plot_type = 'aggregated' # aggregated or individual\n",
    "\n",
    "lim_min = None\n",
    "lim_max = None\n",
    "\n",
    "summary = scatter_plot(merge_table.dropna(), component_nom, units, sensor, \n",
    "                       plot_dates, 1, extent_definition, show_seasons, scatter_plot_type, lim_min, lim_max, plot_bbox)"
   ]
  },
  {
   "cell_type": "code",
   "execution_count": null,
   "metadata": {},
   "outputs": [],
   "source": [
    "summary"
   ]
  },
  {
   "cell_type": "markdown",
   "metadata": {},
   "source": [
    "## 9. Scatter plots by season"
   ]
  },
  {
   "cell_type": "code",
   "execution_count": null,
   "metadata": {},
   "outputs": [],
   "source": [
    "show_seasons = True\n",
    "extent_definition = 'bbox' # bbox or country\n",
    "scatter_plot_type = 'individual' # aggregated or individual\n",
    "\n",
    "lim_min = None\n",
    "lim_max = None\n",
    "\n",
    "summary = scatter_plot(merge_table.dropna(), component_nom, units, sensor, \n",
    "                       plot_dates, 1, extent_definition, show_seasons, scatter_plot_type, lim_min, lim_max, plot_bbox)"
   ]
  },
  {
   "cell_type": "code",
   "execution_count": null,
   "metadata": {},
   "outputs": [],
   "source": [
    "summary"
   ]
  },
  {
   "cell_type": "markdown",
   "metadata": {},
   "source": [
    "## 10. Scatter plots by country (Google API required!)"
   ]
  },
  {
   "cell_type": "code",
   "execution_count": null,
   "metadata": {},
   "outputs": [],
   "source": [
    "\"\"\"\n",
    "show_seasons = False\n",
    "extent_definition = 'country' # bbox or country\n",
    "scatter_plot_type = 'individual' # aggregated or individual\n",
    "plot_countries = ['China', 'India', 'Vietnam']\n",
    "\n",
    "lim_min = None\n",
    "lim_max = None\n",
    "\n",
    "summary = scatter_plot(merge_table.dropna(), component_nom, units, sensor, \n",
    "                       plot_dates, 1, extent_definition, show_seasons, scatter_plot_type, lim_min, lim_max, plot_countries)\n",
    "\"\"\""
   ]
  },
  {
   "cell_type": "code",
   "execution_count": null,
   "metadata": {},
   "outputs": [],
   "source": [
    "#summary"
   ]
  }
 ],
 "metadata": {
  "interpreter": {
   "hash": "fc2967d46b8688a8c6de8a18a3daae8ebe0b7dc5d18d27687b3fe01b2a6426f9"
  },
  "kernelspec": {
   "display_name": "Python 3.8.10 64-bit ('env-new': venv)",
   "name": "python3"
  },
  "language_info": {
   "codemirror_mode": {
    "name": "ipython",
    "version": 3
   },
   "file_extension": ".py",
   "mimetype": "text/x-python",
   "name": "python",
   "nbconvert_exporter": "python",
   "pygments_lexer": "ipython3",
   "version": "3.8.10"
  },
  "orig_nbformat": 4
 },
 "nbformat": 4,
 "nbformat_minor": 2
}
