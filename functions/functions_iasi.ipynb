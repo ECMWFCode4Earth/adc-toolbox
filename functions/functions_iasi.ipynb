{
 "cells": [
  {
   "cell_type": "markdown",
   "source": [
    "# IASI functions"
   ],
   "metadata": {}
  },
  {
   "cell_type": "code",
   "execution_count": null,
   "source": [
    "def IASI_version(component_nom, year):\n",
    "\n",
    "    \"\"\" Get version of IASI dataset for each component nomenclature\n",
    "\n",
    "         Args:\n",
    "            component_nom (str): Component chemical nomenclature\n",
    "            year (str): Year of dataset\n",
    "\n",
    "        Returns:\n",
    "            version (str): IASI dataset version\n",
    "    \"\"\"\n",
    "\n",
    "    # https://iasi.aeris-data.fr/CO_IASI_C_L3_data/\n",
    "    if component_nom == 'CO':\n",
    "        version = 'V6.5.0'\n",
    "\n",
    "    # https://iasi.aeris-data.fr/O3_IASI_C_L3_data/\n",
    "    elif component_nom == 'O3':\n",
    "        version = 'V6.5.1'\n",
    "\n",
    "    # https://iasi.aeris-data.fr/HCOOH_IASI_C_L3_data/\n",
    "    elif component_nom == 'HCOOH':\n",
    "        version = 'V1.0.0'\n",
    "\n",
    "    return version"
   ],
   "outputs": [],
   "metadata": {}
  },
  {
   "cell_type": "code",
   "execution_count": null,
   "source": [
    "def IASI_download(component_nom, date):\n",
    "\n",
    "    \"\"\" Download the IASI dataset with curl\n",
    "\n",
    "         Args:\n",
    "            component_nom (str): Component chemical nomenclature\n",
    "            date (str): Query month as date\n",
    "\n",
    "        Returns:\n",
    "            product_name (str): Product name of IASI product\n",
    "    \"\"\"\n",
    "\n",
    "    cn = component_nom.lower()\n",
    "    year = date.split('-')[0]\n",
    "    month = date.split('-')[1]\n",
    "    version = IASI_version(component_nom, year)\n",
    "    product_name = ''.join(['IASI_METOPC_L3_', component_nom, '_COLUMN_', year, month, '_ULB-LATMOS_', version, '.nc'])\n",
    "    \n",
    "    print(f'Downloading {product_name}...')\n",
    "    !curl --insecure https://cds-espri.ipsl.fr/iasicl3/iasi_$cn/$version/$year/$product_name --output data/iasi/$component_nom/$product_name\n",
    "    \n",
    "    return product_name"
   ],
   "outputs": [],
   "metadata": {}
  },
  {
   "cell_type": "code",
   "execution_count": null,
   "source": [
    "def IASI_read(product_names, component_nom):\n",
    "\n",
    "    \"\"\" Read the IASI dataset as xarray dataset object and assign time\n",
    "\n",
    "         Args:\n",
    "            product_names (arr): Product names of IASI products\n",
    "            component_nom (str): Component chemical nomenclature\n",
    "\n",
    "        Returns:\n",
    "            sensor_ds (xarray): IASI dataset in xarray format\n",
    "            sensor_type (str): Sensor type ('NRT')\n",
    "    \"\"\"\n",
    "\n",
    "    sensor_ds_all = []\n",
    "\n",
    "    for product_name in product_names:\n",
    "\n",
    "        sensor_ds = xr.open_dataset('data/iasi/' + component_nom + '/' + product_name)\n",
    "\n",
    "        # Add datetime (e.g.: for June 2021, 2021-06-01)\n",
    "        year = int(product_name.split('COLUMN_')[1].split('_ULB')[0][0:4])\n",
    "        month = int(product_name.split('COLUMN_')[1].split('_ULB')[0][4:6])\n",
    "        time_str = datetime.datetime(year, month, 1)\n",
    "        sensor_ds = sensor_ds.assign_coords({'time': time_str}).expand_dims(dim = ['time'])\n",
    "\n",
    "        sensor_ds_all.append(sensor_ds)\n",
    "    \n",
    "        # Merge if there is more than one product\n",
    "        if len(product_names) >= 2:\n",
    "\n",
    "            sensor_ds = xr.merge(sensor_ds_all)\n",
    "\n",
    "    sensor_type = 'L3'\n",
    "\n",
    "    return sensor_ds, sensor_type"
   ],
   "outputs": [],
   "metadata": {}
  }
 ],
 "metadata": {
  "orig_nbformat": 4,
  "language_info": {
   "name": "python"
  }
 },
 "nbformat": 4,
 "nbformat_minor": 2
}